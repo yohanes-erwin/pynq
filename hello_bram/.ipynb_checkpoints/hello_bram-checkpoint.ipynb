{
 "cells": [
  {
   "cell_type": "code",
   "execution_count": 1,
   "id": "ced1778f",
   "metadata": {},
   "outputs": [],
   "source": [
    "from pynq import Overlay\n",
    "from pynq import MMIO"
   ]
  },
  {
   "cell_type": "code",
   "execution_count": 2,
   "id": "57f032d9",
   "metadata": {},
   "outputs": [
    {
     "data": {
      "application/javascript": [
       "\n",
       "try {\n",
       "require(['notebook/js/codecell'], function(codecell) {\n",
       "  codecell.CodeCell.options_default.highlight_modes[\n",
       "      'magic_text/x-csrc'] = {'reg':[/^%%microblaze/]};\n",
       "  Jupyter.notebook.events.one('kernel_ready.Kernel', function(){\n",
       "      Jupyter.notebook.get_cells().map(function(cell){\n",
       "          if (cell.cell_type == 'code'){ cell.auto_highlight(); } }) ;\n",
       "  });\n",
       "});\n",
       "} catch (e) {};\n"
      ]
     },
     "metadata": {},
     "output_type": "display_data"
    },
    {
     "data": {
      "application/javascript": [
       "\n",
       "try {\n",
       "require(['notebook/js/codecell'], function(codecell) {\n",
       "  codecell.CodeCell.options_default.highlight_modes[\n",
       "      'magic_text/x-csrc'] = {'reg':[/^%%pybind11/]};\n",
       "  Jupyter.notebook.events.one('kernel_ready.Kernel', function(){\n",
       "      Jupyter.notebook.get_cells().map(function(cell){\n",
       "          if (cell.cell_type == 'code'){ cell.auto_highlight(); } }) ;\n",
       "  });\n",
       "});\n",
       "} catch (e) {};\n"
      ]
     },
     "metadata": {},
     "output_type": "display_data"
    }
   ],
   "source": [
    "# Program bitstream to FPGA\n",
    "overlay = Overlay('/home/ubuntu/workspace/hello_bram.bit')"
   ]
  },
  {
   "cell_type": "code",
   "execution_count": 3,
   "id": "aa8a0ae6",
   "metadata": {},
   "outputs": [],
   "source": [
    "# Access to memory map of the AXI BRAM controller\n",
    "ADDR_BASE = 0xA0000000\n",
    "ADDR_RANGE = 0x2000\n",
    "bram_obj = MMIO(ADDR_BASE, ADDR_RANGE)"
   ]
  },
  {
   "cell_type": "code",
   "execution_count": 4,
   "id": "61aaa6a9",
   "metadata": {},
   "outputs": [],
   "source": [
    "# Write data 168 to BRAM address 0x0\n",
    "bram_obj.write(0x0, 168)"
   ]
  },
  {
   "cell_type": "code",
   "execution_count": 5,
   "id": "96c6e092",
   "metadata": {},
   "outputs": [
    {
     "data": {
      "text/plain": [
       "168"
      ]
     },
     "execution_count": 5,
     "metadata": {},
     "output_type": "execute_result"
    }
   ],
   "source": [
    "# Read data from BRAM address 0x0\n",
    "bram_obj.read(0x0)"
   ]
  },
  {
   "cell_type": "code",
   "execution_count": 6,
   "id": "05fa5bc0",
   "metadata": {},
   "outputs": [],
   "source": [
    "# Write data 888 to BRAM address 0x1FFC (Max)\n",
    "bram_obj.write(0x1FFC, 888)"
   ]
  },
  {
   "cell_type": "code",
   "execution_count": 7,
   "id": "957130f0",
   "metadata": {},
   "outputs": [
    {
     "data": {
      "text/plain": [
       "888"
      ]
     },
     "execution_count": 7,
     "metadata": {},
     "output_type": "execute_result"
    }
   ],
   "source": [
    "# Read data from BRAM address 0x1FFC\n",
    "bram_obj.read(0x1FFC)"
   ]
  }
 ],
 "metadata": {
  "kernelspec": {
   "display_name": "Python 3 (ipykernel)",
   "language": "python",
   "name": "python3"
  },
  "language_info": {
   "codemirror_mode": {
    "name": "ipython",
    "version": 3
   },
   "file_extension": ".py",
   "mimetype": "text/x-python",
   "name": "python",
   "nbconvert_exporter": "python",
   "pygments_lexer": "ipython3",
   "version": "3.11.5"
  }
 },
 "nbformat": 4,
 "nbformat_minor": 5
}
