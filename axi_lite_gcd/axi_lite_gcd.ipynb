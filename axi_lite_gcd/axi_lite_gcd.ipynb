{
 "cells": [
  {
   "cell_type": "code",
   "execution_count": 1,
   "id": "ad712034",
   "metadata": {},
   "outputs": [],
   "source": [
    "from pynq import Overlay\n",
    "from pynq import MMIO\n",
    "from time import time"
   ]
  },
  {
   "cell_type": "code",
   "execution_count": 2,
   "id": "0ce082ac",
   "metadata": {},
   "outputs": [
    {
     "data": {
      "application/javascript": [
       "\n",
       "try {\n",
       "require(['notebook/js/codecell'], function(codecell) {\n",
       "  codecell.CodeCell.options_default.highlight_modes[\n",
       "      'magic_text/x-csrc'] = {'reg':[/^%%microblaze/]};\n",
       "  Jupyter.notebook.events.one('kernel_ready.Kernel', function(){\n",
       "      Jupyter.notebook.get_cells().map(function(cell){\n",
       "          if (cell.cell_type == 'code'){ cell.auto_highlight(); } }) ;\n",
       "  });\n",
       "});\n",
       "} catch (e) {};\n"
      ]
     },
     "metadata": {},
     "output_type": "display_data"
    },
    {
     "data": {
      "application/javascript": [
       "\n",
       "try {\n",
       "require(['notebook/js/codecell'], function(codecell) {\n",
       "  codecell.CodeCell.options_default.highlight_modes[\n",
       "      'magic_text/x-csrc'] = {'reg':[/^%%pybind11/]};\n",
       "  Jupyter.notebook.events.one('kernel_ready.Kernel', function(){\n",
       "      Jupyter.notebook.get_cells().map(function(cell){\n",
       "          if (cell.cell_type == 'code'){ cell.auto_highlight(); } }) ;\n",
       "  });\n",
       "});\n",
       "} catch (e) {};\n"
      ]
     },
     "metadata": {},
     "output_type": "display_data"
    }
   ],
   "source": [
    "# Program bitstream to FPGA\n",
    "overlay = Overlay('/home/ubuntu/workspace/axi_lite_gcd.bit')"
   ]
  },
  {
   "cell_type": "code",
   "execution_count": 3,
   "id": "d51202db",
   "metadata": {},
   "outputs": [],
   "source": [
    "# Access to memory map of the AXI GCD\n",
    "ADDR_BASE = 0xA0000000\n",
    "ADDR_RANGE = 0x80\n",
    "gcd_obj = MMIO(ADDR_BASE, ADDR_RANGE)"
   ]
  },
  {
   "cell_type": "code",
   "execution_count": 4,
   "id": "37ee0d51",
   "metadata": {},
   "outputs": [],
   "source": [
    "# Write input A and B to the AXI GCD\n",
    "gcd_obj.write(0x8, 128)\n",
    "gcd_obj.write(0x10, 72)"
   ]
  },
  {
   "cell_type": "code",
   "execution_count": 5,
   "id": "0186acf6",
   "metadata": {},
   "outputs": [],
   "source": [
    "# Start main controller\n",
    "gcd_obj.write(0x0, 0x1)\n",
    "# Wait until ready flag is 1\n",
    "while ((gcd_obj.read(0x0) & (1 << 1)) == 0):\n",
    "    pass"
   ]
  },
  {
   "cell_type": "code",
   "execution_count": 6,
   "id": "121cb652",
   "metadata": {},
   "outputs": [
    {
     "data": {
      "text/plain": [
       "8"
      ]
     },
     "execution_count": 6,
     "metadata": {},
     "output_type": "execute_result"
    }
   ],
   "source": [
    "# Read GCD result\n",
    "gcd_obj.read(0x18)"
   ]
  },
  {
   "cell_type": "code",
   "execution_count": 7,
   "id": "beb35727",
   "metadata": {},
   "outputs": [],
   "source": [
    "# Function to calculate GCD with HW core\n",
    "def calc_gcd_hw(a, b):\n",
    "    gcd_obj.write(0x8, a)\n",
    "    gcd_obj.write(0x10, b)\n",
    "    gcd_obj.write(0x0, 0x1)\n",
    "    r = gcd_obj.read(0x18)\n",
    "    return r"
   ]
  },
  {
   "cell_type": "code",
   "execution_count": 8,
   "id": "602b8550",
   "metadata": {},
   "outputs": [
    {
     "data": {
      "text/plain": [
       "8"
      ]
     },
     "execution_count": 8,
     "metadata": {},
     "output_type": "execute_result"
    }
   ],
   "source": [
    "calc_gcd_hw(128, 72)"
   ]
  },
  {
   "cell_type": "code",
   "execution_count": 9,
   "id": "02a49020",
   "metadata": {},
   "outputs": [
    {
     "data": {
      "text/plain": [
       "264"
      ]
     },
     "execution_count": 9,
     "metadata": {},
     "output_type": "execute_result"
    }
   ],
   "source": [
    "calc_gcd_hw(1680888, 8880168)"
   ]
  },
  {
   "cell_type": "code",
   "execution_count": 10,
   "id": "07781526",
   "metadata": {},
   "outputs": [
    {
     "name": "stdout",
     "output_type": "stream",
     "text": [
      "Time used for HW GCD: 29.42424488067627s\n"
     ]
    }
   ],
   "source": [
    "# Measure the time required to calculate 1 million operation\n",
    "t1 = time()\n",
    "for i in range(1000000):\n",
    "    calc_gcd_hw(2391065, 3578129)\n",
    "t2 = time()\n",
    "t_hw = t2 - t1\n",
    "print('Time used for HW GCD: {}s'.format(t_hw))"
   ]
  },
  {
   "cell_type": "code",
   "execution_count": 11,
   "id": "18b14c71",
   "metadata": {},
   "outputs": [],
   "source": [
    "# Function to calculate GCD with SW\n",
    "def calc_gcd_sw(a, b):\n",
    "    n = 0\n",
    "    while True:\n",
    "        if (a == b):\n",
    "            break\n",
    "        if ((a % 2) == 0): # a even\n",
    "            a = a >> 1\n",
    "            if ((b % 2) == 0): # b even\n",
    "                b = b >> 1\n",
    "                n = n + 1\n",
    "        else: # a odd\n",
    "            if ((b % 2) == 0): # b even\n",
    "                b = b >> 1\n",
    "            else: # b odd\n",
    "                if (a > b):\n",
    "                    a = a - b\n",
    "                else:\n",
    "                    b = b - a\n",
    "    a = a << n\n",
    "    return a"
   ]
  },
  {
   "cell_type": "code",
   "execution_count": 12,
   "id": "51804c44",
   "metadata": {},
   "outputs": [
    {
     "data": {
      "text/plain": [
       "8"
      ]
     },
     "execution_count": 12,
     "metadata": {},
     "output_type": "execute_result"
    }
   ],
   "source": [
    "calc_gcd_sw(128, 72)"
   ]
  },
  {
   "cell_type": "code",
   "execution_count": 13,
   "id": "9808c337",
   "metadata": {},
   "outputs": [
    {
     "data": {
      "text/plain": [
       "264"
      ]
     },
     "execution_count": 13,
     "metadata": {},
     "output_type": "execute_result"
    }
   ],
   "source": [
    "calc_gcd_sw(1680888, 8880168)"
   ]
  },
  {
   "cell_type": "code",
   "execution_count": 14,
   "id": "38edefe5",
   "metadata": {},
   "outputs": [
    {
     "name": "stdout",
     "output_type": "stream",
     "text": [
      "Time used for SW GCD: 54.3738739490509s\n"
     ]
    }
   ],
   "source": [
    "# Measure the time required to calculate 1 million operation\n",
    "t1 = time()\n",
    "for i in range(1000000):\n",
    "    calc_gcd_sw(2391065, 3578129)\n",
    "t2 = time()\n",
    "t_sw = t2 - t1\n",
    "print('Time used for SW GCD: {}s'.format(t_sw))"
   ]
  },
  {
   "cell_type": "code",
   "execution_count": null,
   "id": "7a7d3ff8",
   "metadata": {},
   "outputs": [],
   "source": []
  }
 ],
 "metadata": {
  "kernelspec": {
   "display_name": "Python 3 (ipykernel)",
   "language": "python",
   "name": "python3"
  },
  "language_info": {
   "codemirror_mode": {
    "name": "ipython",
    "version": 3
   },
   "file_extension": ".py",
   "mimetype": "text/x-python",
   "name": "python",
   "nbconvert_exporter": "python",
   "pygments_lexer": "ipython3",
   "version": "3.10.12"
  }
 },
 "nbformat": 4,
 "nbformat_minor": 5
}
