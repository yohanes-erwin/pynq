{
 "cells": [
  {
   "cell_type": "code",
   "execution_count": 1,
   "id": "f8300943",
   "metadata": {},
   "outputs": [],
   "source": [
    "from pynq import Overlay\n",
    "from pynq import MMIO\n",
    "from time import time"
   ]
  },
  {
   "cell_type": "code",
   "execution_count": 2,
   "id": "68fe1b7a",
   "metadata": {},
   "outputs": [
    {
     "data": {
      "application/javascript": [
       "\n",
       "try {\n",
       "require(['notebook/js/codecell'], function(codecell) {\n",
       "  codecell.CodeCell.options_default.highlight_modes[\n",
       "      'magic_text/x-csrc'] = {'reg':[/^%%microblaze/]};\n",
       "  Jupyter.notebook.events.one('kernel_ready.Kernel', function(){\n",
       "      Jupyter.notebook.get_cells().map(function(cell){\n",
       "          if (cell.cell_type == 'code'){ cell.auto_highlight(); } }) ;\n",
       "  });\n",
       "});\n",
       "} catch (e) {};\n"
      ]
     },
     "metadata": {},
     "output_type": "display_data"
    },
    {
     "data": {
      "application/javascript": [
       "\n",
       "try {\n",
       "require(['notebook/js/codecell'], function(codecell) {\n",
       "  codecell.CodeCell.options_default.highlight_modes[\n",
       "      'magic_text/x-csrc'] = {'reg':[/^%%pybind11/]};\n",
       "  Jupyter.notebook.events.one('kernel_ready.Kernel', function(){\n",
       "      Jupyter.notebook.get_cells().map(function(cell){\n",
       "          if (cell.cell_type == 'code'){ cell.auto_highlight(); } }) ;\n",
       "  });\n",
       "});\n",
       "} catch (e) {};\n"
      ]
     },
     "metadata": {},
     "output_type": "display_data"
    }
   ],
   "source": [
    "# Program bitstream to FPGA\n",
    "overlay = Overlay('/home/ubuntu/workspace/axi_lite_multiplier.bit')"
   ]
  },
  {
   "cell_type": "code",
   "execution_count": 3,
   "id": "6c266154",
   "metadata": {},
   "outputs": [],
   "source": [
    "# Access to memory map of the AXI multiplier\n",
    "ADDR_BASE = 0xA0000000\n",
    "ADDR_RANGE = 0x80\n",
    "mult_obj = MMIO(ADDR_BASE, ADDR_RANGE)"
   ]
  },
  {
   "cell_type": "code",
   "execution_count": 4,
   "id": "48548183",
   "metadata": {},
   "outputs": [
    {
     "data": {
      "text/plain": [
       "80"
      ]
     },
     "execution_count": 4,
     "metadata": {},
     "output_type": "execute_result"
    }
   ],
   "source": [
    "# Write input and read multiplication result\n",
    "mult_obj.write(0x0, 10)\n",
    "mult_obj.read(0x8)"
   ]
  },
  {
   "cell_type": "code",
   "execution_count": 5,
   "id": "73a222b7",
   "metadata": {},
   "outputs": [],
   "source": [
    "# Function to calculate multiplication\n",
    "def calc_mult_axi_lite(a):\n",
    "    mult_obj.write(0x0, a)\n",
    "    r = mult_obj.read(0x8)\n",
    "    return r"
   ]
  },
  {
   "cell_type": "code",
   "execution_count": 6,
   "id": "df649855",
   "metadata": {},
   "outputs": [
    {
     "data": {
      "text/plain": [
       "96"
      ]
     },
     "execution_count": 6,
     "metadata": {},
     "output_type": "execute_result"
    }
   ],
   "source": [
    "calc_mult_axi_lite(12)"
   ]
  },
  {
   "cell_type": "code",
   "execution_count": 7,
   "id": "b6344ae1",
   "metadata": {},
   "outputs": [
    {
     "data": {
      "text/plain": [
       "28625032"
      ]
     },
     "execution_count": 7,
     "metadata": {},
     "output_type": "execute_result"
    }
   ],
   "source": [
    "calc_mult_axi_lite(3578129)"
   ]
  },
  {
   "cell_type": "code",
   "execution_count": 8,
   "id": "95495b30",
   "metadata": {},
   "outputs": [
    {
     "name": "stdout",
     "output_type": "stream",
     "text": [
      "Time used for AXI lite multiplier: 15.767791271209717s\n"
     ]
    }
   ],
   "source": [
    "# Measure the time required to calculate 1 million multiplication\n",
    "t1 = time()\n",
    "for i in range(1000000):\n",
    "    calc_mult_axi_lite(3578129)\n",
    "t2 = time()\n",
    "t_diff = t2 - t1\n",
    "print('Time used for AXI lite multiplier: {}s'.format(t_diff))"
   ]
  }
 ],
 "metadata": {
  "kernelspec": {
   "display_name": "Python 3 (ipykernel)",
   "language": "python",
   "name": "python3"
  },
  "language_info": {
   "codemirror_mode": {
    "name": "ipython",
    "version": 3
   },
   "file_extension": ".py",
   "mimetype": "text/x-python",
   "name": "python",
   "nbconvert_exporter": "python",
   "pygments_lexer": "ipython3",
   "version": "3.11.5"
  }
 },
 "nbformat": 4,
 "nbformat_minor": 5
}
