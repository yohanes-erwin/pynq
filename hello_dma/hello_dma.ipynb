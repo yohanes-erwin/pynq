{
 "cells": [
  {
   "cell_type": "code",
   "execution_count": 1,
   "id": "51e9febf",
   "metadata": {},
   "outputs": [],
   "source": [
    "from pynq import Overlay\n",
    "from pynq import allocate\n",
    "import numpy as np"
   ]
  },
  {
   "cell_type": "code",
   "execution_count": 2,
   "id": "ff27ff44",
   "metadata": {},
   "outputs": [
    {
     "data": {
      "application/javascript": [
       "\n",
       "try {\n",
       "require(['notebook/js/codecell'], function(codecell) {\n",
       "  codecell.CodeCell.options_default.highlight_modes[\n",
       "      'magic_text/x-csrc'] = {'reg':[/^%%microblaze/]};\n",
       "  Jupyter.notebook.events.one('kernel_ready.Kernel', function(){\n",
       "      Jupyter.notebook.get_cells().map(function(cell){\n",
       "          if (cell.cell_type == 'code'){ cell.auto_highlight(); } }) ;\n",
       "  });\n",
       "});\n",
       "} catch (e) {};\n"
      ]
     },
     "metadata": {},
     "output_type": "display_data"
    },
    {
     "data": {
      "application/javascript": [
       "\n",
       "try {\n",
       "require(['notebook/js/codecell'], function(codecell) {\n",
       "  codecell.CodeCell.options_default.highlight_modes[\n",
       "      'magic_text/x-csrc'] = {'reg':[/^%%pybind11/]};\n",
       "  Jupyter.notebook.events.one('kernel_ready.Kernel', function(){\n",
       "      Jupyter.notebook.get_cells().map(function(cell){\n",
       "          if (cell.cell_type == 'code'){ cell.auto_highlight(); } }) ;\n",
       "  });\n",
       "});\n",
       "} catch (e) {};\n"
      ]
     },
     "metadata": {},
     "output_type": "display_data"
    }
   ],
   "source": [
    "# Program bitstream to FPGA\n",
    "overlay = Overlay('/home/ubuntu/workspace/hello_dma.bit')"
   ]
  },
  {
   "cell_type": "code",
   "execution_count": 3,
   "id": "ad15c374",
   "metadata": {},
   "outputs": [],
   "source": [
    "# Access to AXI DMA\n",
    "dma = overlay.axi_dma_0\n",
    "dma_send = overlay.axi_dma_0.sendchannel\n",
    "dma_recv = overlay.axi_dma_0.recvchannel"
   ]
  },
  {
   "cell_type": "code",
   "execution_count": 4,
   "id": "32f307e6",
   "metadata": {},
   "outputs": [],
   "source": [
    "# Maximum data that can be sent by AXI DMA for 1 transaction is 67108863 bytes\n",
    "# floor(67108863 bytes/8) = 8388607 word (64-bit)\n",
    "# We divide by 8 because we use uint64 data type\n",
    "data_size = 8388607"
   ]
  },
  {
   "cell_type": "code",
   "execution_count": 5,
   "id": "f03583cc",
   "metadata": {},
   "outputs": [],
   "source": [
    "# Allocate physical memory for AXI DMA MM2S\n",
    "input_buffer = allocate(shape=(data_size,), dtype=np.uint64)"
   ]
  },
  {
   "cell_type": "code",
   "execution_count": 6,
   "id": "fd3f40ff",
   "metadata": {},
   "outputs": [],
   "source": [
    "# Write data to physical memory\n",
    "for i in range(data_size):\n",
    "    input_buffer[i] = i + 0xcafe000000000000"
   ]
  },
  {
   "cell_type": "code",
   "execution_count": 7,
   "id": "3969e71b",
   "metadata": {},
   "outputs": [
    {
     "name": "stdout",
     "output_type": "stream",
     "text": [
      "0xcafe000000000000\n",
      "0xcafe000000000001\n",
      "0xcafe000000000002\n",
      "0xcafe000000000003\n",
      "0xcafe000000000004\n",
      "0xcafe000000000005\n",
      "0xcafe000000000006\n",
      "0xcafe000000000007\n",
      "0xcafe000000000008\n",
      "0xcafe000000000009\n"
     ]
    }
   ],
   "source": [
    "# Check the written data\n",
    "for i in range(10):\n",
    "    print(hex(input_buffer[i]))"
   ]
  },
  {
   "cell_type": "code",
   "execution_count": 8,
   "id": "0430a42b",
   "metadata": {},
   "outputs": [],
   "source": [
    "# Do AXI DMA MM2S transfer\n",
    "dma_send.transfer(input_buffer)"
   ]
  },
  {
   "cell_type": "code",
   "execution_count": 9,
   "id": "9919f023",
   "metadata": {},
   "outputs": [],
   "source": [
    "# Allocate physical memory for AXI DMA S2MM\n",
    "output_buffer = allocate(shape=(data_size,), dtype=np.uint64)"
   ]
  },
  {
   "cell_type": "code",
   "execution_count": 10,
   "id": "66c3652b",
   "metadata": {},
   "outputs": [
    {
     "name": "stdout",
     "output_type": "stream",
     "text": [
      "0x0\n",
      "0x0\n",
      "0x0\n",
      "0x0\n",
      "0x0\n",
      "0x0\n",
      "0x0\n",
      "0x0\n",
      "0x0\n",
      "0x0\n"
     ]
    }
   ],
   "source": [
    "# Check the memory content\n",
    "for i in range(10):\n",
    "    print(hex(output_buffer[i]))"
   ]
  },
  {
   "cell_type": "code",
   "execution_count": 11,
   "id": "bf1739e1",
   "metadata": {},
   "outputs": [],
   "source": [
    "# Do AXI DMA S2MM transfer\n",
    "dma_recv.transfer(output_buffer)"
   ]
  },
  {
   "cell_type": "code",
   "execution_count": 12,
   "id": "9895ad84",
   "metadata": {},
   "outputs": [
    {
     "name": "stdout",
     "output_type": "stream",
     "text": [
      "0xcafe000000000000\n",
      "0xcafe000000000001\n",
      "0xcafe000000000002\n",
      "0xcafe000000000003\n",
      "0xcafe000000000004\n",
      "0xcafe000000000005\n",
      "0xcafe000000000006\n",
      "0xcafe000000000007\n",
      "0xcafe000000000008\n",
      "0xcafe000000000009\n"
     ]
    }
   ],
   "source": [
    "# Check the memory content after DMA transfer\n",
    "for i in range(10):\n",
    "    print(hex(output_buffer[i]))"
   ]
  },
  {
   "cell_type": "code",
   "execution_count": 13,
   "id": "def99539",
   "metadata": {},
   "outputs": [
    {
     "name": "stdout",
     "output_type": "stream",
     "text": [
      "Arrays are equal: True\n"
     ]
    }
   ],
   "source": [
    "# Compare arrays\n",
    "print(\"Arrays are equal: {}\".format(np.array_equal(input_buffer, output_buffer)))"
   ]
  },
  {
   "cell_type": "code",
   "execution_count": 14,
   "id": "ef2075a7",
   "metadata": {},
   "outputs": [
    {
     "name": "stdout",
     "output_type": "stream",
     "text": [
      "Input buffer address   : 0x36b00000\n",
      "Output buffer address  : 0x3ab00000\n",
      "DMA Source address     : 0x36b00000\n",
      "DMA Destination address: 0x3ab00000\n"
     ]
    }
   ],
   "source": [
    "# Get information about physical address\n",
    "print(\"Input buffer address   :\", hex(input_buffer.physical_address))\n",
    "print(\"Output buffer address  :\", hex(output_buffer.physical_address))\n",
    "print(\"DMA Source address     :\", hex(dma.register_map.MM2S_SA.Source_Address))\n",
    "print(\"DMA Destination address:\", hex(dma.register_map.S2MM_DA.Destination_Address))"
   ]
  },
  {
   "cell_type": "code",
   "execution_count": 15,
   "id": "1c5916fd",
   "metadata": {},
   "outputs": [],
   "source": [
    "# Delete buffer to prevent memory leak\n",
    "del input_buffer, output_buffer"
   ]
  },
  {
   "cell_type": "code",
   "execution_count": null,
   "id": "24d19d2c",
   "metadata": {},
   "outputs": [],
   "source": []
  }
 ],
 "metadata": {
  "kernelspec": {
   "display_name": "Python 3 (ipykernel)",
   "language": "python",
   "name": "python3"
  },
  "language_info": {
   "codemirror_mode": {
    "name": "ipython",
    "version": 3
   },
   "file_extension": ".py",
   "mimetype": "text/x-python",
   "name": "python",
   "nbconvert_exporter": "python",
   "pygments_lexer": "ipython3",
   "version": "3.10.12"
  }
 },
 "nbformat": 4,
 "nbformat_minor": 5
}
