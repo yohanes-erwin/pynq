{
 "cells": [
  {
   "cell_type": "code",
   "execution_count": 1,
   "id": "b108f924",
   "metadata": {},
   "outputs": [],
   "source": [
    "from pynq import Overlay\n",
    "from pynq import allocate\n",
    "import numpy as np\n",
    "from time import time"
   ]
  },
  {
   "cell_type": "code",
   "execution_count": 2,
   "id": "546272bf",
   "metadata": {},
   "outputs": [
    {
     "data": {
      "application/javascript": [
       "\n",
       "try {\n",
       "require(['notebook/js/codecell'], function(codecell) {\n",
       "  codecell.CodeCell.options_default.highlight_modes[\n",
       "      'magic_text/x-csrc'] = {'reg':[/^%%microblaze/]};\n",
       "  Jupyter.notebook.events.one('kernel_ready.Kernel', function(){\n",
       "      Jupyter.notebook.get_cells().map(function(cell){\n",
       "          if (cell.cell_type == 'code'){ cell.auto_highlight(); } }) ;\n",
       "  });\n",
       "});\n",
       "} catch (e) {};\n"
      ]
     },
     "metadata": {},
     "output_type": "display_data"
    },
    {
     "data": {
      "application/javascript": [
       "\n",
       "try {\n",
       "require(['notebook/js/codecell'], function(codecell) {\n",
       "  codecell.CodeCell.options_default.highlight_modes[\n",
       "      'magic_text/x-csrc'] = {'reg':[/^%%pybind11/]};\n",
       "  Jupyter.notebook.events.one('kernel_ready.Kernel', function(){\n",
       "      Jupyter.notebook.get_cells().map(function(cell){\n",
       "          if (cell.cell_type == 'code'){ cell.auto_highlight(); } }) ;\n",
       "  });\n",
       "});\n",
       "} catch (e) {};\n"
      ]
     },
     "metadata": {},
     "output_type": "display_data"
    }
   ],
   "source": [
    "# Program bitstream to FPGA\n",
    "overlay = Overlay('/home/ubuntu/workspace/axi_dma_multiplier.bit')"
   ]
  },
  {
   "cell_type": "code",
   "execution_count": 3,
   "id": "b50fd1a2",
   "metadata": {},
   "outputs": [],
   "source": [
    "# Access to AXI DMA\n",
    "dma = overlay.axi_dma_0\n",
    "dma_send = overlay.axi_dma_0.sendchannel\n",
    "dma_recv = overlay.axi_dma_0.recvchannel"
   ]
  },
  {
   "cell_type": "code",
   "execution_count": 4,
   "id": "8b651ace",
   "metadata": {},
   "outputs": [],
   "source": [
    "# Allocate physical memory for AXI DMA\n",
    "data_size = 1\n",
    "input_buffer = allocate(shape=(data_size,), dtype=np.uint32)\n",
    "output_buffer = allocate(shape=(data_size,), dtype=np.uint32)"
   ]
  },
  {
   "cell_type": "code",
   "execution_count": 5,
   "id": "5506a650",
   "metadata": {},
   "outputs": [],
   "source": [
    "# Write input to be multiplied\n",
    "input_buffer[0] = 10"
   ]
  },
  {
   "cell_type": "code",
   "execution_count": 6,
   "id": "cfc9246a",
   "metadata": {},
   "outputs": [],
   "source": [
    "# Do AXI DMA MM2S and S2MM transfer\n",
    "dma_send.transfer(input_buffer)\n",
    "dma_recv.transfer(output_buffer)"
   ]
  },
  {
   "cell_type": "code",
   "execution_count": 7,
   "id": "50b50e37",
   "metadata": {},
   "outputs": [
    {
     "name": "stdout",
     "output_type": "stream",
     "text": [
      "80\n"
     ]
    }
   ],
   "source": [
    "# Print multiplication result\n",
    "print(output_buffer[0])"
   ]
  },
  {
   "cell_type": "code",
   "execution_count": 8,
   "id": "c707e328",
   "metadata": {},
   "outputs": [],
   "source": [
    "# Delete buffer to prevent memory leak\n",
    "del input_buffer, output_buffer"
   ]
  },
  {
   "cell_type": "code",
   "execution_count": 9,
   "id": "0701213c",
   "metadata": {},
   "outputs": [],
   "source": [
    "# Function to calculate multiplication\n",
    "def calc_mult_axi_dma(a, r):\n",
    "    dma_send.transfer(a)\n",
    "    dma_recv.transfer(r)"
   ]
  },
  {
   "cell_type": "code",
   "execution_count": 10,
   "id": "6b7b7083",
   "metadata": {},
   "outputs": [],
   "source": [
    "data_size = 1\n",
    "input_buffer = allocate(shape=(data_size,), dtype=np.uint32)\n",
    "output_buffer = allocate(shape=(data_size,), dtype=np.uint32)"
   ]
  },
  {
   "cell_type": "code",
   "execution_count": 11,
   "id": "6ce3f9dc",
   "metadata": {},
   "outputs": [],
   "source": [
    "input_buffer[0] = 12"
   ]
  },
  {
   "cell_type": "code",
   "execution_count": 12,
   "id": "a739fcf6",
   "metadata": {},
   "outputs": [],
   "source": [
    "calc_mult_axi_dma(input_buffer, output_buffer)"
   ]
  },
  {
   "cell_type": "code",
   "execution_count": 13,
   "id": "76b8f00d",
   "metadata": {},
   "outputs": [
    {
     "name": "stdout",
     "output_type": "stream",
     "text": [
      "96\n"
     ]
    }
   ],
   "source": [
    "print(output_buffer[0])"
   ]
  },
  {
   "cell_type": "code",
   "execution_count": 14,
   "id": "cd8efb37",
   "metadata": {},
   "outputs": [],
   "source": [
    "# Delete buffer to prevent memory leak\n",
    "del input_buffer, output_buffer"
   ]
  },
  {
   "cell_type": "code",
   "execution_count": 15,
   "id": "063a0eeb",
   "metadata": {},
   "outputs": [],
   "source": [
    "data_size = 1000000\n",
    "input_buffer = allocate(shape=(data_size,), dtype=np.uint32)\n",
    "output_buffer = allocate(shape=(data_size,), dtype=np.uint32)"
   ]
  },
  {
   "cell_type": "code",
   "execution_count": 16,
   "id": "7d30968f",
   "metadata": {},
   "outputs": [
    {
     "name": "stdout",
     "output_type": "stream",
     "text": [
      "Time used for AXI DMA multiplier: 1.1429970264434814s\n"
     ]
    }
   ],
   "source": [
    "# Measure the time required to calculate 1 million multiplication\n",
    "t1 = time()\n",
    "for i in range(data_size):\n",
    "    input_buffer[i] = 3578129\n",
    "calc_mult_axi_dma(input_buffer, output_buffer)\n",
    "t2 = time()\n",
    "t_diff = t2 - t1\n",
    "print('Time used for AXI DMA multiplier: {}s'.format(t_diff))"
   ]
  },
  {
   "cell_type": "code",
   "execution_count": 17,
   "id": "cb818aa2",
   "metadata": {},
   "outputs": [
    {
     "name": "stdout",
     "output_type": "stream",
     "text": [
      "28625032\n"
     ]
    }
   ],
   "source": [
    "# Check the result\n",
    "print(output_buffer[999999])"
   ]
  },
  {
   "cell_type": "code",
   "execution_count": 18,
   "id": "44929d08",
   "metadata": {},
   "outputs": [],
   "source": [
    "# Delete buffer to prevent memory leak\n",
    "del input_buffer, output_buffer"
   ]
  },
  {
   "cell_type": "code",
   "execution_count": null,
   "id": "fb383e3b",
   "metadata": {},
   "outputs": [],
   "source": []
  }
 ],
 "metadata": {
  "kernelspec": {
   "display_name": "Python 3 (ipykernel)",
   "language": "python",
   "name": "python3"
  },
  "language_info": {
   "codemirror_mode": {
    "name": "ipython",
    "version": 3
   },
   "file_extension": ".py",
   "mimetype": "text/x-python",
   "name": "python",
   "nbconvert_exporter": "python",
   "pygments_lexer": "ipython3",
   "version": "3.10.12"
  }
 },
 "nbformat": 4,
 "nbformat_minor": 5
}
