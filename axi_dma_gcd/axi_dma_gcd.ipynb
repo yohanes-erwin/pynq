{
 "cells": [
  {
   "cell_type": "code",
   "execution_count": 1,
   "id": "8d1bd0ef",
   "metadata": {},
   "outputs": [],
   "source": [
    "from pynq import Overlay\n",
    "from pynq import allocate\n",
    "import numpy as np\n",
    "from time import time"
   ]
  },
  {
   "cell_type": "code",
   "execution_count": 2,
   "id": "29aa336d",
   "metadata": {},
   "outputs": [
    {
     "data": {
      "application/javascript": [
       "\n",
       "try {\n",
       "require(['notebook/js/codecell'], function(codecell) {\n",
       "  codecell.CodeCell.options_default.highlight_modes[\n",
       "      'magic_text/x-csrc'] = {'reg':[/^%%microblaze/]};\n",
       "  Jupyter.notebook.events.one('kernel_ready.Kernel', function(){\n",
       "      Jupyter.notebook.get_cells().map(function(cell){\n",
       "          if (cell.cell_type == 'code'){ cell.auto_highlight(); } }) ;\n",
       "  });\n",
       "});\n",
       "} catch (e) {};\n"
      ]
     },
     "metadata": {},
     "output_type": "display_data"
    },
    {
     "data": {
      "application/javascript": [
       "\n",
       "try {\n",
       "require(['notebook/js/codecell'], function(codecell) {\n",
       "  codecell.CodeCell.options_default.highlight_modes[\n",
       "      'magic_text/x-csrc'] = {'reg':[/^%%pybind11/]};\n",
       "  Jupyter.notebook.events.one('kernel_ready.Kernel', function(){\n",
       "      Jupyter.notebook.get_cells().map(function(cell){\n",
       "          if (cell.cell_type == 'code'){ cell.auto_highlight(); } }) ;\n",
       "  });\n",
       "});\n",
       "} catch (e) {};\n"
      ]
     },
     "metadata": {},
     "output_type": "display_data"
    }
   ],
   "source": [
    "# Program bitstream to FPGA\n",
    "overlay = Overlay('/home/ubuntu/workspace/axi_dma_gcd.bit')"
   ]
  },
  {
   "cell_type": "code",
   "execution_count": 3,
   "id": "843a8544",
   "metadata": {},
   "outputs": [],
   "source": [
    "# Access to AXI DMA\n",
    "dma = overlay.axi_dma_0\n",
    "dma_send = overlay.axi_dma_0.sendchannel\n",
    "dma_recv = overlay.axi_dma_0.recvchannel"
   ]
  },
  {
   "cell_type": "code",
   "execution_count": 4,
   "id": "cefbda57",
   "metadata": {},
   "outputs": [],
   "source": [
    "# Allocate physical memory for AXI DMA\n",
    "data_size = 1\n",
    "input_buffer = allocate(shape=(data_size,), dtype=np.uint64)\n",
    "output_buffer = allocate(shape=(data_size,), dtype=np.uint32)"
   ]
  },
  {
   "cell_type": "code",
   "execution_count": 5,
   "id": "ef204144",
   "metadata": {},
   "outputs": [],
   "source": [
    "# Write GCD input a and b to be calculated\n",
    "input_buffer[0] = ((72 << 32) | (128));"
   ]
  },
  {
   "cell_type": "code",
   "execution_count": 6,
   "id": "30a44979",
   "metadata": {},
   "outputs": [],
   "source": [
    "# Do AXI DMA MM2S and S2MM transfer\n",
    "dma_send.transfer(input_buffer)\n",
    "dma_recv.transfer(output_buffer)"
   ]
  },
  {
   "cell_type": "code",
   "execution_count": 7,
   "id": "6454bd27",
   "metadata": {},
   "outputs": [
    {
     "name": "stdout",
     "output_type": "stream",
     "text": [
      "8\n"
     ]
    }
   ],
   "source": [
    "# Print GCD result\n",
    "print(output_buffer[0])"
   ]
  },
  {
   "cell_type": "code",
   "execution_count": 8,
   "id": "e108fe45",
   "metadata": {},
   "outputs": [],
   "source": [
    "# Delete buffer to prevent memory leak\n",
    "del input_buffer, output_buffer"
   ]
  },
  {
   "cell_type": "code",
   "execution_count": 9,
   "id": "aedd005b",
   "metadata": {},
   "outputs": [],
   "source": [
    "# Function to calculate GCD\n",
    "def calc_gcd_hw_axi_dma(ab, r):\n",
    "    dma_send.transfer(ab)\n",
    "    dma_recv.transfer(r)"
   ]
  },
  {
   "cell_type": "code",
   "execution_count": 10,
   "id": "ba1fe584",
   "metadata": {},
   "outputs": [],
   "source": [
    "data_size = 1\n",
    "input_buffer = allocate(shape=(data_size,), dtype=np.uint64)\n",
    "output_buffer = allocate(shape=(data_size,), dtype=np.uint32)"
   ]
  },
  {
   "cell_type": "code",
   "execution_count": 11,
   "id": "a1955da2",
   "metadata": {},
   "outputs": [],
   "source": [
    "input_buffer[0] = ((8880168 << 32) | (1680888));"
   ]
  },
  {
   "cell_type": "code",
   "execution_count": 12,
   "id": "c8b55f22",
   "metadata": {},
   "outputs": [],
   "source": [
    "calc_gcd_hw_axi_dma(input_buffer, output_buffer)"
   ]
  },
  {
   "cell_type": "code",
   "execution_count": 13,
   "id": "79d77eb8",
   "metadata": {},
   "outputs": [
    {
     "name": "stdout",
     "output_type": "stream",
     "text": [
      "264\n"
     ]
    }
   ],
   "source": [
    "print(output_buffer[0])"
   ]
  },
  {
   "cell_type": "code",
   "execution_count": 14,
   "id": "e152df21",
   "metadata": {},
   "outputs": [],
   "source": [
    "# Delete buffer to prevent memory leak\n",
    "del input_buffer, output_buffer"
   ]
  },
  {
   "cell_type": "code",
   "execution_count": 15,
   "id": "2a00d4a7",
   "metadata": {},
   "outputs": [],
   "source": [
    "data_size = 1000000\n",
    "input_buffer = allocate(shape=(data_size,), dtype=np.uint64)\n",
    "output_buffer = allocate(shape=(data_size,), dtype=np.uint32)"
   ]
  },
  {
   "cell_type": "code",
   "execution_count": 16,
   "id": "89f93b6e",
   "metadata": {},
   "outputs": [
    {
     "name": "stdout",
     "output_type": "stream",
     "text": [
      "Time used for HW GCD with AXI DMA: 1.1621017456054688s\n"
     ]
    }
   ],
   "source": [
    "# Measure the time required to calculate 1 million GCD calculation\n",
    "t1 = time()\n",
    "for i in range(data_size):\n",
    "    input_buffer[i] = ((3578129 << 32) | (2391065));\n",
    "calc_gcd_hw_axi_dma(input_buffer, output_buffer)\n",
    "t2 = time()\n",
    "t_diff = t2 - t1\n",
    "print('Time used for HW GCD with AXI DMA: {}s'.format(t_diff))"
   ]
  },
  {
   "cell_type": "code",
   "execution_count": 17,
   "id": "53d6f657",
   "metadata": {},
   "outputs": [
    {
     "name": "stdout",
     "output_type": "stream",
     "text": [
      "1\n"
     ]
    }
   ],
   "source": [
    "# Check the result\n",
    "print(output_buffer[999999])"
   ]
  },
  {
   "cell_type": "code",
   "execution_count": 18,
   "id": "5e7f9e55",
   "metadata": {},
   "outputs": [],
   "source": [
    "# Delete buffer to prevent memory leak\n",
    "del input_buffer, output_buffer"
   ]
  }
 ],
 "metadata": {
  "kernelspec": {
   "display_name": "Python 3 (ipykernel)",
   "language": "python",
   "name": "python3"
  },
  "language_info": {
   "codemirror_mode": {
    "name": "ipython",
    "version": 3
   },
   "file_extension": ".py",
   "mimetype": "text/x-python",
   "name": "python",
   "nbconvert_exporter": "python",
   "pygments_lexer": "ipython3",
   "version": "3.10.12"
  }
 },
 "nbformat": 4,
 "nbformat_minor": 5
}
